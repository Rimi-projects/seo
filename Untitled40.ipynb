{
  "nbformat": 4,
  "nbformat_minor": 0,
  "metadata": {
    "colab": {
      "provenance": [],
      "authorship_tag": "ABX9TyOx2UBHsWcMJKzRwE9tNFLY",
      "include_colab_link": true
    },
    "kernelspec": {
      "name": "python3",
      "display_name": "Python 3"
    },
    "language_info": {
      "name": "python"
    }
  },
  "cells": [
    {
      "cell_type": "markdown",
      "metadata": {
        "id": "view-in-github",
        "colab_type": "text"
      },
      "source": [
        "<a href=\"https://colab.research.google.com/github/Rimi-projects/seo/blob/main/Untitled40.ipynb\" target=\"_parent\"><img src=\"https://colab.research.google.com/assets/colab-badge.svg\" alt=\"Open In Colab\"/></a>"
      ]
    },
    {
      "cell_type": "code",
      "execution_count": 2,
      "metadata": {
        "colab": {
          "base_uri": "https://localhost:8080/"
        },
        "id": "Yxq2b-oJLfCN",
        "outputId": "e999ab78-9bd2-4ae2-98e5-958d02f6dcba"
      },
      "outputs": [
        {
          "output_type": "stream",
          "name": "stdout",
          "text": [
            "Cloning into 'swarm'...\n",
            "remote: Enumerating objects: 313, done.\u001b[K\n",
            "remote: Counting objects:   0% (1/198)\u001b[K\rremote: Counting objects:   1% (2/198)\u001b[K\rremote: Counting objects:   2% (4/198)\u001b[K\rremote: Counting objects:   3% (6/198)\u001b[K\rremote: Counting objects:   4% (8/198)\u001b[K\rremote: Counting objects:   5% (10/198)\u001b[K\rremote: Counting objects:   6% (12/198)\u001b[K\rremote: Counting objects:   7% (14/198)\u001b[K\rremote: Counting objects:   8% (16/198)\u001b[K\rremote: Counting objects:   9% (18/198)\u001b[K\rremote: Counting objects:  10% (20/198)\u001b[K\rremote: Counting objects:  11% (22/198)\u001b[K\rremote: Counting objects:  12% (24/198)\u001b[K\rremote: Counting objects:  13% (26/198)\u001b[K\rremote: Counting objects:  14% (28/198)\u001b[K\rremote: Counting objects:  15% (30/198)\u001b[K\rremote: Counting objects:  16% (32/198)\u001b[K\rremote: Counting objects:  17% (34/198)\u001b[K\rremote: Counting objects:  18% (36/198)\u001b[K\rremote: Counting objects:  19% (38/198)\u001b[K\rremote: Counting objects:  20% (40/198)\u001b[K\rremote: Counting objects:  21% (42/198)\u001b[K\rremote: Counting objects:  22% (44/198)\u001b[K\rremote: Counting objects:  23% (46/198)\u001b[K\rremote: Counting objects:  24% (48/198)\u001b[K\rremote: Counting objects:  25% (50/198)\u001b[K\rremote: Counting objects:  26% (52/198)\u001b[K\rremote: Counting objects:  27% (54/198)\u001b[K\rremote: Counting objects:  28% (56/198)\u001b[K\rremote: Counting objects:  29% (58/198)\u001b[K\rremote: Counting objects:  30% (60/198)\u001b[K\rremote: Counting objects:  31% (62/198)\u001b[K\rremote: Counting objects:  32% (64/198)\u001b[K\rremote: Counting objects:  33% (66/198)\u001b[K\rremote: Counting objects:  34% (68/198)\u001b[K\rremote: Counting objects:  35% (70/198)\u001b[K\rremote: Counting objects:  36% (72/198)\u001b[K\rremote: Counting objects:  37% (74/198)\u001b[K\rremote: Counting objects:  38% (76/198)\u001b[K\rremote: Counting objects:  39% (78/198)\u001b[K\rremote: Counting objects:  40% (80/198)\u001b[K\rremote: Counting objects:  41% (82/198)\u001b[K\rremote: Counting objects:  42% (84/198)\u001b[K\rremote: Counting objects:  43% (86/198)\u001b[K\rremote: Counting objects:  44% (88/198)\u001b[K\rremote: Counting objects:  45% (90/198)\u001b[K\rremote: Counting objects:  46% (92/198)\u001b[K\rremote: Counting objects:  47% (94/198)\u001b[K\rremote: Counting objects:  48% (96/198)\u001b[K\rremote: Counting objects:  49% (98/198)\u001b[K\rremote: Counting objects:  50% (99/198)\u001b[K\rremote: Counting objects:  51% (101/198)\u001b[K\rremote: Counting objects:  52% (103/198)\u001b[K\rremote: Counting objects:  53% (105/198)\u001b[K\rremote: Counting objects:  54% (107/198)\u001b[K\rremote: Counting objects:  55% (109/198)\u001b[K\rremote: Counting objects:  56% (111/198)\u001b[K\rremote: Counting objects:  57% (113/198)\u001b[K\rremote: Counting objects:  58% (115/198)\u001b[K\rremote: Counting objects:  59% (117/198)\u001b[K\rremote: Counting objects:  60% (119/198)\u001b[K\rremote: Counting objects:  61% (121/198)\u001b[K\rremote: Counting objects:  62% (123/198)\u001b[K\rremote: Counting objects:  63% (125/198)\u001b[K\rremote: Counting objects:  64% (127/198)\u001b[K\rremote: Counting objects:  65% (129/198)\u001b[K\rremote: Counting objects:  66% (131/198)\u001b[K\rremote: Counting objects:  67% (133/198)\u001b[K\rremote: Counting objects:  68% (135/198)\u001b[K\rremote: Counting objects:  69% (137/198)\u001b[K\rremote: Counting objects:  70% (139/198)\u001b[K\rremote: Counting objects:  71% (141/198)\u001b[K\rremote: Counting objects:  72% (143/198)\u001b[K\rremote: Counting objects:  73% (145/198)\u001b[K\rremote: Counting objects:  74% (147/198)\u001b[K\rremote: Counting objects:  75% (149/198)\u001b[K\rremote: Counting objects:  76% (151/198)\u001b[K\rremote: Counting objects:  77% (153/198)\u001b[K\rremote: Counting objects:  78% (155/198)\u001b[K\rremote: Counting objects:  79% (157/198)\u001b[K\rremote: Counting objects:  80% (159/198)\u001b[K\rremote: Counting objects:  81% (161/198)\u001b[K\rremote: Counting objects:  82% (163/198)\u001b[K\rremote: Counting objects:  83% (165/198)\u001b[K\rremote: Counting objects:  84% (167/198)\u001b[K\rremote: Counting objects:  85% (169/198)\u001b[K\rremote: Counting objects:  86% (171/198)\u001b[K\rremote: Counting objects:  87% (173/198)\u001b[K\rremote: Counting objects:  88% (175/198)\u001b[K\rremote: Counting objects:  89% (177/198)\u001b[K\rremote: Counting objects:  90% (179/198)\u001b[K\rremote: Counting objects:  91% (181/198)\u001b[K\rremote: Counting objects:  92% (183/198)\u001b[K\rremote: Counting objects:  93% (185/198)\u001b[K\rremote: Counting objects:  94% (187/198)\u001b[K\rremote: Counting objects:  95% (189/198)\u001b[K\rremote: Counting objects:  96% (191/198)\u001b[K\rremote: Counting objects:  97% (193/198)\u001b[K\rremote: Counting objects:  98% (195/198)\u001b[K\rremote: Counting objects:  99% (197/198)\u001b[K\rremote: Counting objects: 100% (198/198)\u001b[K\rremote: Counting objects: 100% (198/198), done.\u001b[K\n",
            "remote: Compressing objects: 100% (154/154), done.\u001b[K\n",
            "remote: Total 313 (delta 54), reused 146 (delta 41), pack-reused 115 (from 1)\u001b[K\n",
            "Receiving objects: 100% (313/313), 543.16 KiB | 8.36 MiB/s, done.\n",
            "Resolving deltas: 100% (58/58), done.\n"
          ]
        }
      ],
      "source": [
        "!git clone https://github.com/openai/swarm.git"
      ]
    },
    {
      "cell_type": "code",
      "source": [
        "!python examples/airline/main.py\n",
        "\n"
      ],
      "metadata": {
        "colab": {
          "base_uri": "https://localhost:8080/"
        },
        "id": "i6hxjf3vOA67",
        "outputId": "de672940-ad60-498f-8f06-62e59e0b19fd"
      },
      "execution_count": 5,
      "outputs": [
        {
          "output_type": "stream",
          "name": "stdout",
          "text": [
            "python3: can't open file '/content/examples/airline/main.py': [Errno 2] No such file or directory\n"
          ]
        }
      ]
    }
  ]
}